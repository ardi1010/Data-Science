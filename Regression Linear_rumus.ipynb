{
 "cells": [
  {
   "cell_type": "markdown",
   "id": "d9612906",
   "metadata": {},
   "source": [
    "# Library"
   ]
  },
  {
   "cell_type": "code",
   "execution_count": 2,
   "id": "5910b1eb",
   "metadata": {},
   "outputs": [],
   "source": [
    "import pandas as pd\n",
    "import numpy as np\n",
    "import math\n",
    "import operator\n",
    "import matplotlib.pyplot as plt\n",
    "%matplotlib inline"
   ]
  },
  {
   "cell_type": "markdown",
   "id": "1e178091",
   "metadata": {},
   "source": [
    "# Dataset"
   ]
  },
  {
   "cell_type": "code",
   "execution_count": 3,
   "id": "9cedf2b6",
   "metadata": {},
   "outputs": [],
   "source": [
    "dataset = pd.read_csv('FuelConsumptionCo2.csv')"
   ]
  },
  {
   "cell_type": "code",
   "execution_count": 4,
   "id": "3256da0a",
   "metadata": {},
   "outputs": [
    {
     "data": {
      "text/html": [
       "<div>\n",
       "<style scoped>\n",
       "    .dataframe tbody tr th:only-of-type {\n",
       "        vertical-align: middle;\n",
       "    }\n",
       "\n",
       "    .dataframe tbody tr th {\n",
       "        vertical-align: top;\n",
       "    }\n",
       "\n",
       "    .dataframe thead th {\n",
       "        text-align: right;\n",
       "    }\n",
       "</style>\n",
       "<table border=\"1\" class=\"dataframe\">\n",
       "  <thead>\n",
       "    <tr style=\"text-align: right;\">\n",
       "      <th></th>\n",
       "      <th>MODELYEAR</th>\n",
       "      <th>MAKE</th>\n",
       "      <th>MODEL</th>\n",
       "      <th>VEHICLECLASS</th>\n",
       "      <th>ENGINESIZE</th>\n",
       "      <th>CYLINDERS</th>\n",
       "      <th>TRANSMISSION</th>\n",
       "      <th>FUELTYPE</th>\n",
       "      <th>FUELCONSUMPTION_CITY</th>\n",
       "      <th>FUELCONSUMPTION_HWY</th>\n",
       "      <th>FUELCONSUMPTION_COMB</th>\n",
       "      <th>FUELCONSUMPTION_COMB_MPG</th>\n",
       "      <th>CO2EMISSIONS</th>\n",
       "    </tr>\n",
       "  </thead>\n",
       "  <tbody>\n",
       "    <tr>\n",
       "      <th>0</th>\n",
       "      <td>2014</td>\n",
       "      <td>ACURA</td>\n",
       "      <td>ILX</td>\n",
       "      <td>COMPACT</td>\n",
       "      <td>2.0</td>\n",
       "      <td>4</td>\n",
       "      <td>AS5</td>\n",
       "      <td>Z</td>\n",
       "      <td>9.9</td>\n",
       "      <td>6.7</td>\n",
       "      <td>8.5</td>\n",
       "      <td>33</td>\n",
       "      <td>196</td>\n",
       "    </tr>\n",
       "    <tr>\n",
       "      <th>1</th>\n",
       "      <td>2014</td>\n",
       "      <td>ACURA</td>\n",
       "      <td>ILX</td>\n",
       "      <td>COMPACT</td>\n",
       "      <td>2.4</td>\n",
       "      <td>4</td>\n",
       "      <td>M6</td>\n",
       "      <td>Z</td>\n",
       "      <td>11.2</td>\n",
       "      <td>7.7</td>\n",
       "      <td>9.6</td>\n",
       "      <td>29</td>\n",
       "      <td>221</td>\n",
       "    </tr>\n",
       "    <tr>\n",
       "      <th>2</th>\n",
       "      <td>2014</td>\n",
       "      <td>ACURA</td>\n",
       "      <td>ILX HYBRID</td>\n",
       "      <td>COMPACT</td>\n",
       "      <td>1.5</td>\n",
       "      <td>4</td>\n",
       "      <td>AV7</td>\n",
       "      <td>Z</td>\n",
       "      <td>6.0</td>\n",
       "      <td>5.8</td>\n",
       "      <td>5.9</td>\n",
       "      <td>48</td>\n",
       "      <td>136</td>\n",
       "    </tr>\n",
       "    <tr>\n",
       "      <th>3</th>\n",
       "      <td>2014</td>\n",
       "      <td>ACURA</td>\n",
       "      <td>MDX 4WD</td>\n",
       "      <td>SUV - SMALL</td>\n",
       "      <td>3.5</td>\n",
       "      <td>6</td>\n",
       "      <td>AS6</td>\n",
       "      <td>Z</td>\n",
       "      <td>12.7</td>\n",
       "      <td>9.1</td>\n",
       "      <td>11.1</td>\n",
       "      <td>25</td>\n",
       "      <td>255</td>\n",
       "    </tr>\n",
       "    <tr>\n",
       "      <th>4</th>\n",
       "      <td>2014</td>\n",
       "      <td>ACURA</td>\n",
       "      <td>RDX AWD</td>\n",
       "      <td>SUV - SMALL</td>\n",
       "      <td>3.5</td>\n",
       "      <td>6</td>\n",
       "      <td>AS6</td>\n",
       "      <td>Z</td>\n",
       "      <td>12.1</td>\n",
       "      <td>8.7</td>\n",
       "      <td>10.6</td>\n",
       "      <td>27</td>\n",
       "      <td>244</td>\n",
       "    </tr>\n",
       "  </tbody>\n",
       "</table>\n",
       "</div>"
      ],
      "text/plain": [
       "   MODELYEAR   MAKE       MODEL VEHICLECLASS  ENGINESIZE  CYLINDERS  \\\n",
       "0       2014  ACURA         ILX      COMPACT         2.0          4   \n",
       "1       2014  ACURA         ILX      COMPACT         2.4          4   \n",
       "2       2014  ACURA  ILX HYBRID      COMPACT         1.5          4   \n",
       "3       2014  ACURA     MDX 4WD  SUV - SMALL         3.5          6   \n",
       "4       2014  ACURA     RDX AWD  SUV - SMALL         3.5          6   \n",
       "\n",
       "  TRANSMISSION FUELTYPE  FUELCONSUMPTION_CITY  FUELCONSUMPTION_HWY  \\\n",
       "0          AS5        Z                   9.9                  6.7   \n",
       "1           M6        Z                  11.2                  7.7   \n",
       "2          AV7        Z                   6.0                  5.8   \n",
       "3          AS6        Z                  12.7                  9.1   \n",
       "4          AS6        Z                  12.1                  8.7   \n",
       "\n",
       "   FUELCONSUMPTION_COMB  FUELCONSUMPTION_COMB_MPG  CO2EMISSIONS  \n",
       "0                   8.5                        33           196  \n",
       "1                   9.6                        29           221  \n",
       "2                   5.9                        48           136  \n",
       "3                  11.1                        25           255  \n",
       "4                  10.6                        27           244  "
      ]
     },
     "execution_count": 4,
     "metadata": {},
     "output_type": "execute_result"
    }
   ],
   "source": [
    "df = pd.DataFrame(dataset)\n",
    "df.head()"
   ]
  },
  {
   "cell_type": "code",
   "execution_count": 5,
   "id": "a57969bb",
   "metadata": {},
   "outputs": [
    {
     "data": {
      "text/plain": [
       "(1067, 13)"
      ]
     },
     "execution_count": 5,
     "metadata": {},
     "output_type": "execute_result"
    }
   ],
   "source": [
    "df.shape"
   ]
  },
  {
   "cell_type": "code",
   "execution_count": 6,
   "id": "c835a8f4",
   "metadata": {},
   "outputs": [
    {
     "data": {
      "text/plain": [
       "MODELYEAR                   0\n",
       "MAKE                        0\n",
       "MODEL                       0\n",
       "VEHICLECLASS                0\n",
       "ENGINESIZE                  0\n",
       "CYLINDERS                   0\n",
       "TRANSMISSION                0\n",
       "FUELTYPE                    0\n",
       "FUELCONSUMPTION_CITY        0\n",
       "FUELCONSUMPTION_HWY         0\n",
       "FUELCONSUMPTION_COMB        0\n",
       "FUELCONSUMPTION_COMB_MPG    0\n",
       "CO2EMISSIONS                0\n",
       "dtype: int64"
      ]
     },
     "execution_count": 6,
     "metadata": {},
     "output_type": "execute_result"
    }
   ],
   "source": [
    "df.isnull().sum()"
   ]
  },
  {
   "cell_type": "code",
   "execution_count": 7,
   "id": "cf88e6c5",
   "metadata": {},
   "outputs": [
    {
     "name": "stdout",
     "output_type": "stream",
     "text": [
      "<class 'pandas.core.frame.DataFrame'>\n",
      "RangeIndex: 1067 entries, 0 to 1066\n",
      "Data columns (total 13 columns):\n",
      " #   Column                    Non-Null Count  Dtype  \n",
      "---  ------                    --------------  -----  \n",
      " 0   MODELYEAR                 1067 non-null   int64  \n",
      " 1   MAKE                      1067 non-null   object \n",
      " 2   MODEL                     1067 non-null   object \n",
      " 3   VEHICLECLASS              1067 non-null   object \n",
      " 4   ENGINESIZE                1067 non-null   float64\n",
      " 5   CYLINDERS                 1067 non-null   int64  \n",
      " 6   TRANSMISSION              1067 non-null   object \n",
      " 7   FUELTYPE                  1067 non-null   object \n",
      " 8   FUELCONSUMPTION_CITY      1067 non-null   float64\n",
      " 9   FUELCONSUMPTION_HWY       1067 non-null   float64\n",
      " 10  FUELCONSUMPTION_COMB      1067 non-null   float64\n",
      " 11  FUELCONSUMPTION_COMB_MPG  1067 non-null   int64  \n",
      " 12  CO2EMISSIONS              1067 non-null   int64  \n",
      "dtypes: float64(4), int64(4), object(5)\n",
      "memory usage: 108.5+ KB\n"
     ]
    }
   ],
   "source": [
    "df.info()"
   ]
  },
  {
   "cell_type": "code",
   "execution_count": 8,
   "id": "fd78737b",
   "metadata": {},
   "outputs": [
    {
     "data": {
      "image/png": "[encoded data removed]",
      "text/plain": [
       "<Figure size 432x288 with 1 Axes>"
      ]
     },
     "metadata": {
      "needs_background": "light"
     },
     "output_type": "display_data"
    }
   ],
   "source": [
    "plt.scatter(df['ENGINESIZE'], df['CO2EMISSIONS'])\n",
    "plt.title('Prediksi')\n",
    "plt.xlabel('YearExperience')\n",
    "plt.ylabel('Salary')\n",
    "plt.show()"
   ]
  },
  {
   "cell_type": "code",
   "execution_count": 9,
   "id": "d9cf0603",
   "metadata": {},
   "outputs": [],
   "source": [
    "x = df['ENGINESIZE'].values\n",
    "y = df['CO2EMISSIONS'].values"
   ]
  },
  {
   "cell_type": "markdown",
   "id": "82cbb44b",
   "metadata": {},
   "source": [
    "# Linear Regression"
   ]
  },
  {
   "cell_type": "markdown",
   "id": "c960fa3f",
   "metadata": {},
   "source": [
    "## Persamaan Simple Linear Regression"
   ]
  },
  {
   "attachments": {
    "image.png": {
     "image/png": "[encoded data removed]"
    }
   },
   "cell_type": "markdown",
   "id": "3c77c79e",
   "metadata": {},
   "source": [
    "![image.png](attachment:image.png)"
   ]
  },
  {
   "cell_type": "markdown",
   "id": "8fed3b37",
   "metadata": {},
   "source": [
    "## Persamaan slope/gradien(m) dan intercept(c)"
   ]
  },
  {
   "attachments": {
    "image.png": {
     "image/png": "[encoded data removed]"
    }
   },
   "cell_type": "markdown",
   "id": "d3e542bf",
   "metadata": {},
   "source": [
    "![image.png](attachment:image.png)"
   ]
  },
  {
   "attachments": {
    "image.png": {
     "image/png": "[encoded data removed]"
    }
   },
   "cell_type": "markdown",
   "id": "2a5c18d1",
   "metadata": {},
   "source": [
    "![image.png](attachment:image.png)"
   ]
  },
  {
   "cell_type": "code",
   "execution_count": 9,
   "id": "a255740c",
   "metadata": {},
   "outputs": [],
   "source": [
    "mean_x = np.mean(x)\n",
    "mean_y = np.mean(y)"
   ]
  },
  {
   "cell_type": "code",
   "execution_count": 16,
   "id": "8431e2ce",
   "metadata": {},
   "outputs": [
    {
     "name": "stdout",
     "output_type": "stream",
     "text": [
      "Nilai m = 39.12519978671174\n",
      "Nilai c = 125.30409949535684\n"
     ]
    }
   ],
   "source": [
    "num = (x-mean_x)*(y-mean_y)\n",
    "denom = (x-mean_x)**2\n",
    "\n",
    "m = np.sum(num)/np.sum(denom)\n",
    "c = mean_y - (m * mean_x)\n",
    "\n",
    "print(f'Nilai m = {m}')\n",
    "print(f'Nilai c = {c}')"
   ]
  },
  {
   "cell_type": "markdown",
   "id": "b3e41e98",
   "metadata": {},
   "source": [
    "# Persamaan MSE"
   ]
  },
  {
   "attachments": {
    "image.png": {
     "image/png": "[encoded data removed]"
    }
   },
   "cell_type": "markdown",
   "id": "2462160f",
   "metadata": {},
   "source": [
    "![image.png](attachment:image.png)"
   ]
  },
  {
   "cell_type": "code",
   "execution_count": 17,
   "id": "52b1cac1",
   "metadata": {},
   "outputs": [],
   "source": [
    "y_pred = m*x+c"
   ]
  },
  {
   "cell_type": "code",
   "execution_count": 18,
   "id": "6832381a",
   "metadata": {},
   "outputs": [
    {
     "name": "stdout",
     "output_type": "stream",
     "text": [
      "Nilai MSE = 946.314052718875\n"
     ]
    }
   ],
   "source": [
    "Min = (y_pred-y)**2\n",
    "Sum_MSE=np.sum(Min)\n",
    "MSE = 1/len(x)*Sum_MSE\n",
    "print(f'Nilai MSE = {MSE}')"
   ]
  },
  {
   "cell_type": "markdown",
   "id": "c3eb75ea",
   "metadata": {},
   "source": [
    "## Persamaan R-Square"
   ]
  },
  {
   "attachments": {
    "image.png": {
     "image/png": "[encoded data removed]"
    }
   },
   "cell_type": "markdown",
   "id": "d75d8038",
   "metadata": {},
   "source": [
    "![image.png](attachment:image.png)"
   ]
  },
  {
   "cell_type": "code",
   "execution_count": 19,
   "id": "4b45e898",
   "metadata": {},
   "outputs": [],
   "source": [
    "RSS = (y_pred - mean_y) ** 2\n",
    "RSS = np.sum(RSS)"
   ]
  },
  {
   "cell_type": "code",
   "execution_count": 20,
   "id": "c23bac33",
   "metadata": {},
   "outputs": [],
   "source": [
    "TSS = (y - mean_y) ** 2\n",
    "TSS = np.sum(TSS)"
   ]
  },
  {
   "cell_type": "code",
   "execution_count": 21,
   "id": "1e507efe",
   "metadata": {},
   "outputs": [
    {
     "name": "stdout",
     "output_type": "stream",
     "text": [
      "Nilai R-Square = 0.7641458597854814\n"
     ]
    }
   ],
   "source": [
    "r_square = RSS/TSS\n",
    "print(f'Nilai R-Square = {r_square}')"
   ]
  },
  {
   "cell_type": "markdown",
   "id": "983faedb",
   "metadata": {},
   "source": [
    "# Plot"
   ]
  },
  {
   "cell_type": "code",
   "execution_count": 22,
   "id": "416499ed",
   "metadata": {},
   "outputs": [
    {
     "data": {
      "text/plain": [
       "[<matplotlib.lines.Line2D at 0x18fa9f194c0>]"
      ]
     },
     "execution_count": 22,
     "metadata": {},
     "output_type": "execute_result"
    },
    {
     "data": {
      "image/png": "[encoded data removed]",
      "text/plain": [
       "<Figure size 432x288 with 1 Axes>"
      ]
     },
     "metadata": {
      "needs_background": "light"
     },
     "output_type": "display_data"
    }
   ],
   "source": [
    "fig, ax = plt.subplots()\n",
    "\n",
    "y_reg = x *m + c\n",
    "ax.scatter(x, y)\n",
    "ax.scatter(x, y_pred, color=\"orange\")\n",
    "ax.plot(x, y_reg, color=\"green\")"
   ]
  },
  {
   "cell_type": "markdown",
   "id": "9ee11d1b",
   "metadata": {},
   "source": [
    "# Gradient Descent (Optimasi)\n",
    "Pada gradient descent, dilakukan training untuk mendapatkan nilai m (bobot) dan nilai c(bias) yang baru"
   ]
  },
  {
   "cell_type": "code",
   "execution_count": 10,
   "id": "c5e1ab59",
   "metadata": {},
   "outputs": [
    {
     "name": "stdout",
     "output_type": "stream",
     "text": [
      "Epoch 1 ----> m = 18.715611996251166 -- c = 5.124573570759138 -- MSE = 69665.42080599813\n",
      "Epoch 2 ----> m = 32.14711440731104 -- c = 8.894095358338998 -- MSE = 37303.85250322384\n",
      "Epoch 3 ----> m = 41.78026270501759 -- c = 11.689310508504843 -- MSE = 20576.910977143194\n",
      "Epoch 4 ----> m = 48.683073637001264 -- c = 13.78391365188179 -- MSE = 11928.838893137994\n",
      "Epoch 5 ----> m = 53.62327764143585 -- c = 15.37464747967053 -- MSE = 7455.368324389956\n",
      "Epoch 6 ----> m = 57.15274806122747 -- c = 16.602938732162464 -- MSE = 5139.056421219619\n",
      "Epoch 7 ----> m = 59.66819203933401 -- c = 17.570450961219073 -- MSE = 3937.4347829130475\n",
      "Epoch 8 ----> m = 61.45477741746309 -- c = 18.35026444103045 -- MSE = 3311.8311414502873\n",
      "Epoch 9 ----> m = 62.71749339206498 -- c = 18.994912708553763 -- MSE = 2983.8985573330056\n",
      "Epoch 10 ----> m = 63.603693733622094 -- c = 19.54215953111431 -- MSE = 2809.8073540635705\n",
      "Epoch 11 ----> m = 64.21930170073132 -- c = 20.01915160804783 -- MSE = 2715.236628094346\n",
      "Epoch 12 ----> m = 64.6404587419612 -- c = 20.44540368886792 -- MSE = 2661.7825727974187\n",
      "Epoch 13 ----> m = 64.92189802096047 -- c = 20.834944388508134 -- MSE = 2629.6007349176234\n",
      "Epoch 14 ----> m = 65.1029636213103 -- c = 21.19785868004745 -- MSE = 2608.436790743147\n",
      "Epoch 15 ----> m = 65.21193737740826 -- c = 21.541396696514198 -- MSE = 2592.991901289816\n",
      "Epoch 16 ----> m = 65.26914916327854 -- c = 21.8707707793405 -- MSE = 2580.527863761563\n",
      "Epoch 17 ----> m = 65.2892126851738 -- c = 22.18972842678113 -- MSE = 2569.6296273923226\n",
      "Epoch 18 ----> m = 65.2826326534048 -- c = 22.50096415079634 -- MSE = 2559.5658513177423\n",
      "Epoch 19 ----> m = 65.2569600779108 -- c = 22.80641553527841 -- MSE = 2549.9584872235214\n",
      "Epoch 20 ----> m = 65.21762273817534 -- c = 23.107476053847808 -- MSE = 2540.6120436010956\n",
      "Epoch 21 ----> m = 65.16852215624196 -- c = 23.405148051296532 -- MSE = 2531.425361884747\n",
      "Epoch 22 ----> m = 65.11246272337435 -- c = 23.70015271241002 -- MSE = 2522.346028748833\n",
      "Epoch 23 ----> m = 65.05146017244147 -- c = 23.993009111698687 -- MSE = 2513.346819682435\n",
      "Epoch 24 ----> m = 64.9869633194712 -- c = 24.28409103732409 -- MSE = 2504.4135267314527\n",
      "Epoch 25 ----> m = 64.92001345981951 -- c = 24.5736678382801 -- MSE = 2495.538668753357\n",
      "Epoch 26 ----> m = 64.85135894813178 -- c = 24.861933786888716 -- MSE = 2486.7182413281625\n",
      "Epoch 27 ----> m = 64.78153756272802 -- c = 25.149029185671946 -- MSE = 2477.9500373434635\n",
      "Epoch 28 ----> m = 64.71093571222019 -- c = 25.435055539770683 -- MSE = 2469.2327791900034\n",
      "Epoch 29 ----> m = 64.6398309954546 -- c = 25.720086463455456 -- MSE = 2460.5656703387745\n",
      "Epoch 30 ----> m = 64.56842279519826 -- c = 26.00417552014191 -- MSE = 2451.9481636241258\n",
      "Epoch 31 ----> m = 64.49685427003016 -- c = 26.287361858094172 -- MSE = 2443.3798415048536\n",
      "Epoch 32 ----> m = 64.42522816293872 -- c = 26.56967426158566 -- MSE = 2434.8603541874104\n",
      "Epoch 33 ----> m = 64.353618165135 -- c = 26.85113406303112 -- MSE = 2426.389387648108\n",
      "Epoch 34 ----> m = 64.28207708478779 -- c = 27.131757236341922 -- MSE = 2417.9666471049713\n",
      "Epoch 35 ----> m = 64.21064271901633 -- c = 27.41155590171378 -- MSE = 2409.5918484728577\n",
      "Epoch 36 ----> m = 64.13934207489832 -- c = 27.690539407329968 -- MSE = 2401.2647139438136\n",
      "Epoch 37 ----> m = 64.06819440368788 -- c = 27.968715106935488 -- MSE = 2392.9849696990377\n",
      "Epoch 38 ----> m = 63.99721338192426 -- c = 28.246088918791763 -- MSE = 2384.7523447223534\n",
      "Epoch 39 ----> m = 63.92640867929351 -- c = 28.52266572747946 -- MSE = 2376.566570182882\n",
      "Epoch 40 ----> m = 63.85578708566511 -- c = 28.798449672734602 -- MSE = 2368.4273791118503\n",
      "Epoch 41 ----> m = 63.78535332124704 -- c = 29.073444357079964 -- MSE = 2360.3345062314243\n",
      "Epoch 42 ----> m = 63.71511061895429 -- c = 29.347652995083397 -- MSE = 2352.287687862114\n",
      "Epoch 43 ----> m = 63.64506114303611 -- c = 29.621078520655463 -- MSE = 2344.2866618708013\n",
      "Epoch 44 ----> m = 63.57520628999959 -- c = 29.89372366418405 -- MSE = 2336.3311676397866\n",
      "Epoch 45 ----> m = 63.50554690492364 -- c = 30.165591007986713 -- MSE = 2328.420946046717\n",
      "Epoch 46 ----> m = 63.43608343695226 -- c = 30.436683026176937 -- MSE = 2320.555739450163\n",
      "Epoch 47 ----> m = 63.366816051067715 -- c = 30.707002113326535 -- MSE = 2312.7352916781306\n",
      "Epoch 48 ----> m = 63.297744708435985 -- c = 30.9765506050743 -- MSE = 2304.9593480181256\n",
      "Epoch 49 ----> m = 63.228869224160825 -- c = 31.24533079294525 -- MSE = 2297.2276552080234\n",
      "Epoch 50 ----> m = 63.16018930879826 -- c = 31.513344935008252 -- MSE = 2289.539961427403\n",
      "Epoch 51 ----> m = 63.091704598197516 -- c = 31.78059526354212 -- MSE = 2281.8960162891162\n",
      "Epoch 52 ----> m = 63.02341467495052 -- c = 32.047083990551236 -- MSE = 2274.295570831026\n",
      "Epoch 53 ----> m = 62.95531908380935 -- c = 32.312813311735326 -- MSE = 2266.7383775078333\n",
      "Epoch 54 ----> m = 62.887417342767584 -- c = 32.57778540934802 -- MSE = 2259.2241901829875\n",
      "Epoch 55 ----> m = 62.81970895102478 -- c = 32.842002454256615 -- MSE = 2251.752764120651\n",
      "Epoch 56 ----> m = 62.75219339471033 -- c = 33.105466607427644 -- MSE = 2244.3238559777274\n",
      "Epoch 57 ----> m = 62.684870150996794 -- c = 33.36818002099955 -- MSE = 2236.937223795918\n",
      "Epoch 58 ----> m = 62.6177386910554 -- c = 33.63014483905877 -- MSE = 2229.5926269938536\n",
      "Epoch 59 ----> m = 62.55079848217939 -- c = 33.89136319820237 -- MSE = 2222.2898263592497\n",
      "Epoch 60 ----> m = 62.484048989309045 -- c = 34.15183722794738 -- MSE = 2215.028584041118\n",
      "Epoch 61 ----> m = 62.417489676126785 -- c = 34.4115690510299 -- MSE = 2207.808663542013\n",
      "Epoch 62 ----> m = 62.35112000584303 -- c = 34.67056078362484 -- MSE = 2200.6298297103394\n",
      "Epoch 63 ----> m = 62.28493944175996 -- c = 34.92881453550881 -- MSE = 2193.491848732687\n",
      "Epoch 64 ----> m = 62.21894744767549 -- c = 35.18633241018188 -- MSE = 2186.3944881262114\n",
      "Epoch 65 ----> m = 62.153143488172454 -- c = 35.44311650495997 -- MSE = 2179.337516731075\n",
      "Epoch 66 ----> m = 62.08752702882525 -- c = 35.699168911045966 -- MSE = 2172.320704702903\n",
      "Epoch 67 ----> m = 62.0220975363472 -- c = 35.954491713585675 -- MSE = 2165.343823505308\n",
      "Epoch 68 ----> m = 61.9568544786952 -- c = 36.209086991712695 -- MSE = 2158.4066459024425\n",
      "Epoch 69 ----> m = 61.89179732514381 -- c = 36.46295681858545 -- MSE = 2151.508945951597\n",
      "Epoch 70 ----> m = 61.82692554633726 -- c = 36.716103261418496 -- MSE = 2144.650498995844\n",
      "Epoch 71 ----> m = 61.76223861432561 -- c = 36.96852838150976 -- MSE = 2137.831081656719\n",
      "Epoch 72 ----> m = 61.697736002589615 -- c = 37.220234234264765 -- MSE = 2131.0504718269453\n",
      "Epoch 73 ----> m = 61.633417186057336 -- c = 37.471222869218714 -- MSE = 2124.3084486632015\n",
      "Epoch 74 ----> m = 61.569281641114905 -- c = 37.721496330057064 -- MSE = 2117.6047925789244\n",
      "Epoch 75 ----> m = 61.5053288456131 -- c = 37.971056654634914 -- MSE = 2110.9392852371643\n",
      "Epoch 76 ----> m = 61.441558278870836 -- c = 38.219905874995604 -- MSE = 2104.3117095434663\n",
      "Epoch 77 ----> m = 61.37796942167654 -- c = 38.468046017388694 -- MSE = 2097.7218496388045\n",
      "Epoch 78 ----> m = 61.314561756287915 -- c = 38.71547910228748 -- MSE = 2091.1694908925488\n",
      "Epoch 79 ----> m = 61.251334766430645 -- c = 38.96220714440619 -- MSE = 2084.654419895477\n",
      "Epoch 80 ----> m = 61.18828793729623 -- c = 39.20823215271693 -- MSE = 2078.176424452822\n",
      "Epoch 81 ----> m = 61.12542075553932 -- c = 39.45355613046641 -- MSE = 2071.7352935773597\n",
      "Epoch 82 ----> m = 61.06273270927457 -- c = 39.698181075192544 -- MSE = 2065.3308174825424\n",
      "Epoch 83 ----> m = 61.000223288073286 -- c = 39.9421089787409 -- MSE = 2058.962787575659\n",
      "Epoch 84 ----> m = 60.93789198295978 -- c = 40.185341827281064 -- MSE = 2052.630996451045\n",
      "Epoch 85 ----> m = 60.875738286407675 -- c = 40.42788160132292 -- MSE = 2046.335237883328\n",
      "Epoch 86 ----> m = 60.813761692335994 -- c = 40.66973027573285 -- MSE = 2040.0753068207116\n",
      "Epoch 87 ----> m = 60.751961696105305 -- c = 40.91088981974986 -- MSE = 2033.8509993782907\n",
      "Epoch 88 ----> m = 60.690337794513724 -- c = 41.151362197001646 -- MSE = 2027.66211283142\n",
      "Epoch 89 ----> m = 60.62888948579294 -- c = 41.39114936552063 -- MSE = 2021.5084456091051\n",
      "Epoch 90 ----> m = 60.567616269604194 -- c = 41.63025327775992 -- MSE = 2015.3897972874372\n",
      "Epoch 91 ----> m = 60.50651764703428 -- c = 41.86867588060919 -- MSE = 2009.3059685830706\n",
      "Epoch 92 ----> m = 60.4455931205915 -- c = 42.10641911541058 -- MSE = 2003.2567613467263\n",
      "Epoch 93 ----> m = 60.38484219420165 -- c = 42.3434849179745 -- MSE = 1997.2419785567408\n",
      "Epoch 94 ----> m = 60.32426437320401 -- c = 42.57987521859538 -- MSE = 1991.261424312651\n",
      "Epoch 95 ----> m = 60.263859164347316 -- c = 42.81559194206743 -- MSE = 1985.314903828809\n",
      "Epoch 96 ----> m = 60.20362607578576 -- c = 43.05063700770027 -- MSE = 1979.4022234280444\n",
      "Epoch 97 ----> m = 60.143564617075015 -- c = 43.285012329334585 -- MSE = 1973.5231905353485\n",
      "Epoch 98 ----> m = 60.08367429916819 -- c = 43.518719815357706 -- MSE = 1967.6776136716073\n",
      "Epoch 99 ----> m = 60.02395463441191 -- c = 43.75176136871916 -- MSE = 1961.865302447368\n",
      "Epoch 100 ----> m = 59.96440513654232 -- c = 43.98413888694613 -- MSE = 1956.0860675566278\n",
      "Epoch 101 ----> m = 59.90502532068114 -- c = 44.21585426215895 -- MSE = 1950.3397207706807\n",
      "Epoch 102 ----> m = 59.84581470333171 -- c = 44.44690938108649 -- MSE = 1944.6260749319752\n",
      "Epoch 103 ----> m = 59.786772802375054 -- c = 44.67730612508152 -- MSE = 1938.944943948028\n",
      "Epoch 104 ----> m = 59.727899137065954 -- c = 44.90704637013603 -- MSE = 1933.296142785359\n",
      "Epoch 105 ----> m = 59.66919322802905 -- c = 45.136131986896494 -- MSE = 1927.6794874634606\n",
      "Epoch 106 ----> m = 59.61065459725492 -- c = 45.36456484067914 -- MSE = 1922.0947950488164\n",
      "Epoch 107 ----> m = 59.55228276809619 -- c = 45.59234679148507 -- MSE = 1916.5418836489314\n",
      "Epoch 108 ----> m = 59.49407726526366 -- c = 45.81947969401549 -- MSE = 1911.0205724064149\n",
      "Epoch 109 ----> m = 59.436037614822446 -- c = 46.04596539768675 -- MSE = 1905.5306814930889\n",
      "Epoch 110 ----> m = 59.37816334418809 -- c = 46.27180574664541 -- MSE = 1900.072032104127\n",
      "Epoch 111 ----> m = 59.32045398212273 -- c = 46.49700257978329 -- MSE = 1894.6444464522383\n",
      "Epoch 112 ----> m = 59.26290905873127 -- c = 46.7215577307524 -- MSE = 1889.2477477618684\n",
      "Epoch 113 ----> m = 59.205528105457546 -- c = 46.9454730279799 -- MSE = 1883.8817602634504\n",
      "Epoch 114 ----> m = 59.14831065508051 -- c = 47.16875029468298 -- MSE = 1878.5463091876718\n",
      "Epoch 115 ----> m = 59.09125624171042 -- c = 47.3913913488837 -- MSE = 1873.2412207597883\n",
      "Epoch 116 ----> m = 59.034364400785066 -- c = 47.6133980034238 -- MSE = 1867.9663221939613\n",
      "Epoch 117 ----> m = 58.97763466906596 -- c = 47.83477206597944 -- MSE = 1862.7214416876325\n",
      "Epoch 118 ----> m = 58.92106658463458 -- c = 48.055515339075974 -- MSE = 1857.5064084159233\n",
      "Epoch 119 ----> m = 58.86465968688863 -- c = 48.275629620102556 -- MSE = 1852.3210525260772\n",
      "Epoch 120 ----> m = 58.808413516538245 -- c = 48.49511670132683 -- MSE = 1847.1652051319265\n",
      "Epoch 121 ----> m = 58.752327615602276 -- c = 48.71397836990948 -- MSE = 1842.0386983083854\n",
      "Epoch 122 ----> m = 58.696401527404554 -- c = 48.93221640791883 -- MSE = 1836.94136508599\n",
      "Epoch 123 ----> m = 58.64063479657019 -- c = 49.149832592345305 -- MSE = 1831.873039445454\n",
      "Epoch 124 ----> m = 58.58502696902185 -- c = 49.36682869511595 -- MSE = 1826.833556312263\n",
      "Epoch 125 ----> m = 58.52957759197605 -- c = 49.5832064831088 -- MSE = 1821.8227515512979\n",
      "Epoch 126 ----> m = 58.47428621393949 -- c = 49.79896771816733 -- MSE = 1816.8404619614907\n",
      "Epoch 127 ----> m = 58.41915238470536 -- c = 50.01411415711475 -- MSE = 1811.8865252705057\n",
      "Epoch 128 ----> m = 58.3641756553497 -- c = 50.22864755176832 -- MSE = 1806.9607801294594\n",
      "Epoch 129 ----> m = 58.309355578227695 -- c = 50.44256964895364 -- MSE = 1802.063066107659\n",
      "Epoch 130 ----> m = 58.254691706970085 -- c = 50.65588219051887 -- MSE = 1797.1932236873824\n",
      "Epoch 131 ----> m = 58.200183596479505 -- c = 50.86858691334885 -- MSE = 1792.3510942586818\n",
      "Epoch 132 ----> m = 58.14583080292686 -- c = 51.08068554937934 -- MSE = 1787.536520114214\n",
      "Epoch 133 ----> m = 58.09163288374771 -- c = 51.29217982561105 -- MSE = 1782.7493444441084\n",
      "Epoch 134 ----> m = 58.03758939763867 -- c = 51.503071464123735 -- MSE = 1777.98941133086\n",
      "Epoch 135 ----> m = 57.98369990455382 -- c = 51.7133621820902 -- MSE = 1773.2565657442447\n",
      "Epoch 136 ----> m = 57.929963965701134 -- c = 51.9230536917903 -- MSE = 1768.550653536279\n",
      "Epoch 137 ----> m = 57.87638114353887 -- c = 52.13214770062486 -- MSE = 1763.8715214361935\n",
      "Epoch 138 ----> m = 57.82295100177204 -- c = 52.3406459111296 -- MSE = 1759.219017045441\n",
      "Epoch 139 ----> m = 57.76967310534884 -- c = 52.54855002098897 -- MSE = 1754.5929888327369\n",
      "Epoch 140 ----> m = 57.716547020457135 -- c = 52.75586172305002 -- MSE = 1749.9932861291181\n",
      "Epoch 141 ----> m = 57.66357231452088 -- c = 52.96258270533612 -- MSE = 1745.4197591230431\n",
      "Epoch 142 ----> m = 57.61074855619663 -- c = 53.16871465106076 -- MSE = 1740.872258855504\n",
      "Epoch 143 ----> m = 57.55807531537004 -- c = 53.37425923864123 -- MSE = 1736.350637215182\n",
      "Epoch 144 ----> m = 57.50555216315232 -- c = 53.57921814171229 -- MSE = 1731.8547469336206\n",
      "Epoch 145 ----> m = 57.4531786718768 -- c = 53.7835930291398 -- MSE = 1727.3844415804292\n",
      "Epoch 146 ----> m = 57.400954415095384 -- c = 53.9873855650343 -- MSE = 1722.9395755585135\n",
      "Epoch 147 ----> m = 57.348878967575125 -- c = 54.19059740876458 -- MSE = 1718.520004099335\n",
      "Epoch 148 ----> m = 57.29695190529474 -- c = 54.39323021497117 -- MSE = 1714.1255832581928\n",
      "Epoch 149 ----> m = 57.245172805441165 -- c = 54.595285633579806 -- MSE = 1709.7561699095397\n",
      "Epoch 150 ----> m = 57.19354124640612 -- c = 54.79676530981491 -- MSE = 1705.4116217423173\n",
      "Epoch 151 ----> m = 57.14205680778266 -- c = 54.99767088421293 -- MSE = 1701.0917972553223\n",
      "Epoch 152 ----> m = 57.09071907036176 -- c = 55.19800399263574 -- MSE = 1696.796555752597\n",
      "Epoch 153 ----> m = 57.03952761612889 -- c = 55.39776626628393 -- MSE = 1692.5257573388471\n",
      "Epoch 154 ----> m = 56.98848202826065 -- c = 55.59695933171011 -- MSE = 1688.2792629148873\n",
      "Epoch 155 ----> m = 56.937581891121326 -- c = 55.795584810832146 -- MSE = 1684.0569341731064\n",
      "Epoch 156 ----> m = 56.88682679025953 -- c = 55.99364432094636 -- MSE = 1679.8586335929692\n",
      "Epoch 157 ----> m = 56.83621631240484 -- c = 56.19113947474071 -- MSE = 1675.6842244365291\n",
      "Epoch 158 ----> m = 56.78575004546438 -- c = 56.38807188030791 -- MSE = 1671.5335707439829\n",
      "Epoch 159 ----> m = 56.735427578519555 -- c = 56.58444314115854 -- MSE = 1667.4065373292378\n",
      "Epoch 160 ----> m = 56.68524850182261 -- c = 56.78025485623407 -- MSE = 1663.3029897755086\n",
      "Epoch 161 ----> m = 56.635212406793364 -- c = 56.975508619919935 -- MSE = 1659.222794430941\n",
      "Epoch 162 ----> m = 56.58531888601584 -- c = 57.17020602205845 -- MSE = 1655.1658184042585\n",
      "Epoch 163 ----> m = 56.53556753323497 -- c = 57.364348647961805 -- MSE = 1651.1319295604349\n",
      "Epoch 164 ----> m = 56.48595794335328 -- c = 57.55793807842496 -- MSE = 1647.1209965163873\n",
      "Epoch 165 ----> m = 56.43648971242759 -- c = 57.750975889738505 -- MSE = 1643.1328886367016\n",
      "Epoch 166 ----> m = 56.38716243766572 -- c = 57.943463653701514 -- MSE = 1639.1674760293745\n",
      "Epoch 167 ----> m = 56.33797571742325 -- c = 58.13540293763432 -- MSE = 1635.224629541582\n",
      "Epoch 168 ----> m = 56.28892915120017 -- c = 58.32679530439129 -- MSE = 1631.3042207554793\n",
      "Epoch 169 ----> m = 56.2400223396377 -- c = 58.51764231237356 -- MSE = 1627.4061219840103\n",
      "Epoch 170 ----> m = 56.19125488451498 -- c = 58.70794551554172 -- MSE = 1623.5302062667527\n",
      "Epoch 171 ----> m = 56.142626388745875 -- c = 58.897706463428435 -- MSE = 1619.676347365784\n",
      "Epoch 172 ----> m = 56.0941364563757 -- c = 59.08692670115111 -- MSE = 1615.8444197615665\n",
      "Epoch 173 ----> m = 56.04578469257803 -- c = 59.27560776942444 -- MSE = 1612.034298648864\n",
      "Epoch 174 ----> m = 55.99757070365146 -- c = 59.46375120457297 -- MSE = 1608.2458599326699\n",
      "Epoch 175 ----> m = 55.94949409701641 -- c = 59.651358538543604 -- MSE = 1604.4789802241737\n",
      "Epoch 176 ----> m = 55.90155448121193 -- c = 59.83843129891805 -- MSE = 1600.7335368367362\n",
      "Epoch 177 ----> m = 55.85375146589251 -- c = 60.02497100892531 -- MSE = 1597.0094077818956\n",
      "Epoch 178 ----> m = 55.80608466182488 -- c = 60.210979187454036 -- MSE = 1593.3064717653947\n",
      "Epoch 179 ----> m = 55.7585536808849 -- c = 60.396457349064924 -- MSE = 1589.6246081832294\n",
      "Epoch 180 ----> m = 55.71115813605434 -- c = 60.58140700400303 -- MSE = 1585.9636971177224\n",
      "Epoch 181 ----> m = 55.66389764141774 -- c = 60.765829658210095 -- MSE = 1582.3236193336152\n",
      "Epoch 182 ----> m = 55.616771812159314 -- c = 60.94972681333677 -- MSE = 1578.704256274187\n",
      "Epoch 183 ----> m = 55.56978026455974 -- c = 61.133099966754855 -- MSE = 1575.1054900573902\n",
      "Epoch 184 ----> m = 55.5229226159931 -- c = 61.31595061156951 -- MSE = 1571.527203472014\n",
      "Epoch 185 ----> m = 55.47619848492374 -- c = 61.4982802366314 -- MSE = 1567.9692799738673\n",
      "Epoch 186 ----> m = 55.429607490903166 -- c = 61.680090326548815 -- MSE = 1564.4316036819782\n",
      "Epoch 187 ----> m = 55.38314925456692 -- c = 61.861382361699754 -- MSE = 1560.9140593748252\n",
      "Epoch 188 ----> m = 55.33682339763156 -- c = 62.04215781824399 -- MSE = 1557.4165324865817\n",
      "Epoch 189 ----> m = 55.290629542891494 -- c = 62.22241816813509 -- MSE = 1553.938909103385\n",
      "Epoch 190 ----> m = 55.24456731421597 -- c = 62.40216487913239 -- MSE = 1550.4810759596253\n",
      "Epoch 191 ----> m = 55.19863633654599 -- c = 62.58139941481295 -- MSE = 1547.0429204342583\n",
      "Epoch 192 ----> m = 55.15283623589126 -- c = 62.76012323458347 -- MSE = 1543.624330547137\n",
      "Epoch 193 ----> m = 55.10716663932714 -- c = 62.93833779369218 -- MSE = 1540.2251949553633\n",
      "Epoch 194 ----> m = 55.06162717499162 -- c = 63.11604454324068 -- MSE = 1536.8454029496625\n",
      "Epoch 195 ----> m = 55.01621747208228 -- c = 63.29324493019578 -- MSE = 1533.484844450776\n",
      "Epoch 196 ----> m = 54.97093716085328 -- c = 63.469940397401245 -- MSE = 1530.1434100058802\n",
      "Epoch 197 ----> m = 54.92578587261234 -- c = 63.64613238358955 -- MSE = 1526.8209907850155\n",
      "Epoch 198 ----> m = 54.88076323971773 -- c = 63.82182232339363 -- MSE = 1523.5174785775466\n",
      "Epoch 199 ----> m = 54.8358688955753 -- c = 63.99701164735852 -- MSE = 1520.232765788637\n",
      "Epoch 200 ----> m = 54.791102474635494 -- c = 64.17170178195303 -- MSE = 1516.9667454357425\n",
      "Epoch 201 ----> m = 54.74646361239035 -- c = 64.34589414958134 -- MSE = 1513.7193111451281\n",
      "Epoch 202 ----> m = 54.701951945370546 -- c = 64.51959016859459 -- MSE = 1510.490357148407\n",
      "Epoch 203 ----> m = 54.65756711114244 -- c = 64.69279125330245 -- MSE = 1507.27977827909\n",
      "Epoch 204 ----> m = 54.61330874830512 -- c = 64.86549881398459 -- MSE = 1504.0874699691608\n",
      "Epoch 205 ----> m = 54.569176496487465 -- c = 65.0377142569022 -- MSE = 1500.9133282456767\n",
      "Epoch 206 ----> m = 54.52516999634519 -- c = 65.20943898430946 -- MSE = 1497.7572497273743\n",
      "Epoch 207 ----> m = 54.48128888955796 -- c = 65.38067439446488 -- MSE = 1494.619131621307\n",
      "Epoch 208 ----> m = 54.437532818826426 -- c = 65.55142188164274 -- MSE = 1491.4988717194954\n",
      "Epoch 209 ----> m = 54.393901427869345 -- c = 65.72168283614447 -- MSE = 1488.3963683955988\n",
      "Epoch 210 ----> m = 54.350394361420676 -- c = 65.8914586443099 -- MSE = 1485.3115206016055\n",
      "Epoch 211 ----> m = 54.307011265226684 -- c = 66.06075068852863 -- MSE = 1482.2442278645426\n",
      "Epoch 212 ----> m = 54.263751786043045 -- c = 66.22956034725118 -- MSE = 1479.1943902831988\n",
      "Epoch 213 ----> m = 54.22061557163198 -- c = 66.39788899500032 -- MSE = 1476.161908524879\n",
      "Epoch 214 ----> m = 54.1776022707594 -- c = 66.56573800238218 -- MSE = 1473.146683822161\n",
      "Epoch 215 ----> m = 54.13471153319202 -- c = 66.73310873609749 -- MSE = 1470.1486179696833\n",
      "Epoch 216 ----> m = 54.09194300969452 -- c = 66.90000255895264 -- MSE = 1467.1676133209446\n",
      "Epoch 217 ----> m = 54.0492963520267 -- c = 67.06642082987078 -- MSE = 1464.2035727851253\n",
      "Epoch 218 ----> m = 54.00677121294066 -- c = 67.23236490390296 -- MSE = 1461.2563998239232\n",
      "Epoch 219 ----> m = 53.96436724617794 -- c = 67.39783613223906 -- MSE = 1458.3259984484093\n",
      "Epoch 220 ----> m = 53.92208410646673 -- c = 67.56283586221888 -- MSE = 1455.4122732159049\n",
      "Epoch 221 ----> m = 53.87992144951903 -- c = 67.72736543734302 -- MSE = 1452.5151292268683\n",
      "Epoch 222 ----> m = 53.83787893202789 -- c = 67.89142619728393 -- MSE = 1449.6344721218059\n",
      "Epoch 223 ----> m = 53.795956211664574 -- c = 68.05501947789672 -- MSE = 1446.7702080782014\n",
      "Epoch 224 ----> m = 53.75415294707578 -- c = 68.2181466112301 -- MSE = 1443.9222438074562\n",
      "Epoch 225 ----> m = 53.71246879788088 -- c = 68.3808089255372 -- MSE = 1441.0904865518517\n",
      "Epoch 226 ----> m = 53.670903424669135 -- c = 68.54300774528636 -- MSE = 1438.2748440815299\n",
      "Epoch 227 ----> m = 53.62945648899692 -- c = 68.70474439117199 -- MSE = 1435.4752246914902\n",
      "Epoch 228 ----> m = 53.588127653385 -- c = 68.86602018012523 -- MSE = 1432.6915371985995\n",
      "Epoch 229 ----> m = 53.54691658131575 -- c = 69.02683642532477 -- MSE = 1429.9236909386234\n",
      "Epoch 230 ----> m = 53.50582293723043 -- c = 69.18719443620745 -- MSE = 1427.1715957632737\n",
      "Epoch 231 ----> m = 53.464846386526446 -- c = 69.34709551847897 -- MSE = 1424.4351620372754\n",
      "Epoch 232 ----> m = 53.423986595554645 -- c = 69.50654097412452 -- MSE = 1421.71430063544\n",
      "Epoch 233 ----> m = 53.38324323161656 -- c = 69.66553210141939 -- MSE = 1419.0089229397693\n",
      "Epoch 234 ----> m = 53.34261596296175 -- c = 69.82407019493951 -- MSE = 1416.3189408365674\n",
      "Epoch 235 ----> m = 53.30210445878506 -- c = 69.98215654557202 -- MSE = 1413.6442667135684\n",
      "Epoch 236 ----> m = 53.261708389223934 -- c = 70.13979244052578 -- MSE = 1410.9848134570866\n",
      "Epoch 237 ----> m = 53.22142742535574 -- c = 70.2969791633418 -- MSE = 1408.3404944491758\n",
      "Epoch 238 ----> m = 53.1812612391951 -- c = 70.45371799390378 -- MSE = 1405.7112235648103\n",
      "Epoch 239 ----> m = 53.141209503691194 -- c = 70.61001020844846 -- MSE = 1403.0969151690797\n",
      "Epoch 240 ----> m = 53.10127189272511 -- c = 70.76585707957604 -- MSE = 1400.497484114399\n",
      "Epoch 241 ----> m = 53.06144808110719 -- c = 70.92125987626052 -- MSE = 1397.912845737736\n",
      "Epoch 242 ----> m = 53.021737744574374 -- c = 71.07621986386009 -- MSE = 1395.342915857852\n",
      "Epoch 243 ----> m = 52.98214055978759 -- c = 71.23073830412736 -- MSE = 1392.7876107725642\n",
      "Epoch 244 ----> m = 52.942656204329076 -- c = 71.38481645521966 -- MSE = 1390.2468472560145\n",
      "Epoch 245 ----> m = 52.90328435669978 -- c = 71.53845557170933 -- MSE = 1387.7205425559628\n",
      "Epoch 246 ----> m = 52.86402469631673 -- c = 71.69165690459386 -- MSE = 1385.2086143910894\n",
      "Epoch 247 ----> m = 52.824876903510464 -- c = 71.84442170130612 -- MSE = 1382.710980948316\n",
      "Epoch 248 ----> m = 52.78584065952236 -- c = 71.99675120572454 -- MSE = 1380.2275608801424\n",
      "Epoch 249 ----> m = 52.74691564650208 -- c = 72.14864665818315 -- MSE = 1377.7582733019926\n",
      "Epoch 250 ----> m = 52.708101547505 -- c = 72.3001092954818 -- MSE = 1375.3030377895868\n",
      "Epoch 251 ----> m = 52.66939804648959 -- c = 72.45114035089613 -- MSE = 1372.8617743763157\n",
      "Epoch 252 ----> m = 52.63080482831486 -- c = 72.60174105418764 -- MSE = 1370.4344035506413\n",
      "Epoch 253 ----> m = 52.59232157873779 -- c = 72.75191263161376 -- MSE = 1368.0208462535036\n",
      "Epoch 254 ----> m = 52.553947984410776 -- c = 72.90165630593775 -- MSE = 1365.6210238757471\n",
      "Epoch 255 ----> m = 52.515683732879076 -- c = 73.0509732964387 -- MSE = 1363.2348582555603\n",
      "Epoch 256 ----> m = 52.47752851257827 -- c = 73.19986481892145 -- MSE = 1360.8622716759298\n",
      "Epoch 257 ----> m = 52.439482012831704 -- c = 73.34833208572651 -- MSE = 1358.5031868621097\n",
      "Epoch 258 ----> m = 52.40154392384798 -- c = 73.4963763057399 -- MSE = 1356.1575269791042\n",
      "Epoch 259 ----> m = 52.36371393671844 -- c = 73.643998684403 -- MSE = 1353.8252156291649\n",
      "Epoch 260 ----> m = 52.325991743414626 -- c = 73.79120042372237 -- MSE = 1351.5061768493042\n",
      "Epoch 261 ----> m = 52.288377036785796 -- c = 73.93798272227957 -- MSE = 1349.200335108817\n",
      "Epoch 262 ----> m = 52.2508695105564 -- c = 74.08434677524085 -- MSE = 1346.9076153068274\n",
      "Epoch 263 ----> m = 52.213468859323605 -- c = 74.23029377436693 -- MSE = 1344.627942769835\n",
      "Epoch 264 ----> m = 52.176174778554795 -- c = 74.37582490802271 -- MSE = 1342.36124324929\n",
      "Epoch 265 ----> m = 52.13898696458511 -- c = 74.5209413611869 -- MSE = 1340.1074429191692\n",
      "Epoch 266 ----> m = 52.10190511461495 -- c = 74.66564431546173 -- MSE = 1337.8664683735744\n",
      "Epoch 267 ----> m = 52.06492892670752 -- c = 74.80993494908253 -- MSE = 1335.638246624343\n",
      "Epoch 268 ----> m = 52.02805809978639 -- c = 74.95381443692733 -- MSE = 1333.422705098665\n",
      "Epoch 269 ----> m = 51.991292333633005 -- c = 75.09728395052642 -- MSE = 1331.2197716367261\n",
      "Epoch 270 ----> m = 51.95463132888426 -- c = 75.2403446580719 -- MSE = 1329.0293744893543\n",
      "Epoch 271 ----> m = 51.91807478703008 -- c = 75.38299772442721 -- MSE = 1326.8514423156826\n",
      "Epoch 272 ----> m = 51.88162241041097 -- c = 75.52524431113659 -- MSE = 1324.6859041808254\n",
      "Epoch 273 ----> m = 51.84527390221558 -- c = 75.66708557643453 -- MSE = 1322.53268955357\n",
      "Epoch 274 ----> m = 51.809028966478316 -- c = 75.80852267525522 -- MSE = 1320.3917283040787\n",
      "Epoch 275 ----> m = 51.77288730807691 -- c = 75.94955675924194 -- MSE = 1318.2629507016027\n",
      "Epoch 276 ----> m = 51.73684863273003 -- c = 76.09018897675648 -- MSE = 1316.1462874122128\n",
      "Epoch 277 ----> m = 51.70091264699487 -- c = 76.23042047288841 -- MSE = 1314.0416694965425\n",
      "Epoch 278 ----> m = 51.66507905826479 -- c = 76.37025238946447 -- MSE = 1311.9490284075396\n",
      "Epoch 279 ----> m = 51.62934757476686 -- c = 76.50968586505785 -- MSE = 1309.8682959882356\n",
      "Epoch 280 ----> m = 51.59371790555959 -- c = 76.64872203499746 -- MSE = 1307.799404469526\n",
      "Epoch 281 ----> m = 51.558189760530496 -- c = 76.78736203137717 -- MSE = 1305.7422864679606\n",
      "Epoch 282 ----> m = 51.52276285039372 -- c = 76.92560698306501 -- MSE = 1303.6968749835526\n",
      "Epoch 283 ----> m = 51.487436886687725 -- c = 77.06345801571241 -- MSE = 1301.6631033975934\n",
      "Epoch 284 ----> m = 51.45221158177293 -- c = 77.20091625176333 -- MSE = 1299.640905470485\n",
      "Epoch 285 ----> m = 51.41708664882935 -- c = 77.33798281046339 -- MSE = 1297.63021533958\n",
      "Epoch 286 ----> m = 51.38206180185427 -- c = 77.47465880786902 -- MSE = 1295.6309675170392\n",
      "Epoch 287 ----> m = 51.34713675565993 -- c = 77.61094535685652 -- MSE = 1293.6430968876969\n",
      "Epoch 288 ----> m = 51.3123112258712 -- c = 77.74684356713112 -- MSE = 1291.666538706941\n",
      "Epoch 289 ----> m = 51.277584928923226 -- c = 77.88235454523605 -- MSE = 1289.7012285986043\n",
      "Epoch 290 ----> m = 51.24295758205918 -- c = 78.0174793945615 -- MSE = 1287.747102552866\n",
      "Epoch 291 ----> m = 51.20842890332791 -- c = 78.15221921535364 -- MSE = 1285.8040969241695\n",
      "Epoch 292 ----> m = 51.173998611581695 -- c = 78.28657510472357 -- MSE = 1283.872148429148\n",
      "Epoch 293 ----> m = 51.13966642647388 -- c = 78.42054815665622 -- MSE = 1281.9511941445642\n",
      "Epoch 294 ----> m = 51.105432068456665 -- c = 78.55413946201935 -- MSE = 1280.0411715052599\n",
      "Epoch 295 ----> m = 51.0712952587788 -- c = 78.68735010857232 -- MSE = 1278.1420183021185\n",
      "Epoch 296 ----> m = 51.037255719483305 -- c = 78.82018118097501 -- MSE = 1276.2536726800395\n",
      "Epoch 297 ----> m = 51.00331317340523 -- c = 78.95263376079666 -- MSE = 1274.3760731359228\n",
      "Epoch 298 ----> m = 50.96946734416939 -- c = 79.08470892652461 -- MSE = 1272.509158516668\n",
      "Epoch 299 ----> m = 50.935717956188086 -- c = 79.2164077535732 -- MSE = 1270.6528680171793\n",
      "Epoch 300 ----> m = 50.90206473465892 -- c = 79.34773131429236 -- MSE = 1268.807141178387\n",
      "Epoch 301 ----> m = 50.868507405562504 -- c = 79.47868067797653 -- MSE = 1266.971917885278\n",
      "Epoch 302 ----> m = 50.83504569566025 -- c = 79.60925691087321 -- MSE = 1265.1471383649384\n",
      "Epoch 303 ----> m = 50.80167933249214 -- c = 79.73946107619174 -- MSE = 1263.3327431846064\n",
      "Epoch 304 ----> m = 50.76840804437453 -- c = 79.8692942341119 -- MSE = 1261.528673249735\n",
      "Epoch 305 ----> m = 50.7352315603979 -- c = 79.99875744179256 -- MSE = 1259.73486980207\n",
      "Epoch 306 ----> m = 50.70214961042468 -- c = 80.12785175338031 -- MSE = 1257.9512744177355\n",
      "Epoch 307 ----> m = 50.66916192508701 -- c = 80.25657822001803 -- MSE = 1256.177829005328\n",
      "Epoch 308 ----> m = 50.63626823578462 -- c = 80.3849378898534 -- MSE = 1254.41447580403\n",
      "Epoch 309 ----> m = 50.603468274682555 -- c = 80.51293180804754 -- MSE = 1252.6611573817238\n",
      "Epoch 310 ----> m = 50.57076177470906 -- c = 80.64056101678342 -- MSE = 1250.9178166331228\n",
      "Epoch 311 ----> m = 50.538148469553384 -- c = 80.7678265552744 -- MSE = 1249.1843967779118\n",
      "Epoch 312 ----> m = 50.50562809366359 -- c = 80.89472945977265 -- MSE = 1247.4608413588971\n",
      "Epoch 313 ----> m = 50.47320038224442 -- c = 81.02127076357765 -- MSE = 1245.7470942401696\n",
      "Epoch 314 ----> m = 50.44086507125514 -- c = 81.14745149704454 -- MSE = 1244.0430996052733\n",
      "Epoch 315 ----> m = 50.40862189740737 -- c = 81.27327268759257 -- MSE = 1242.3488019553884\n",
      "Epoch 316 ----> m = 50.37647059816297 -- c = 81.39873535971338 -- MSE = 1240.6641461075262\n",
      "Epoch 317 ----> m = 50.344410911731856 -- c = 81.52384053497946 -- MSE = 1238.9890771927285\n",
      "Epoch 318 ----> m = 50.31244257706991 -- c = 81.64858923205234 -- MSE = 1237.3235406542826\n",
      "Epoch 319 ----> m = 50.280565333876844 -- c = 81.77298246669099 -- MSE = 1235.667482245943\n",
      "Epoch 320 ----> m = 50.24877892259408 -- c = 81.89702125176004 -- MSE = 1234.020848030166\n",
      "Epoch 321 ----> m = 50.21708308440262 -- c = 82.020706597238 -- MSE = 1232.3835843763522\n",
      "Epoch 322 ----> m = 50.18547756122096 -- c = 82.14403951022558 -- MSE = 1230.7556379590992\n",
      "Epoch 323 ----> m = 50.15396209570297 -- c = 82.2670209949538 -- MSE = 1229.1369557564658\n",
      "Epoch 324 ----> m = 50.12253643123584 -- c = 82.38965205279216 -- MSE = 1227.5274850482447\n",
      "Epoch 325 ----> m = 50.09120031193792 -- c = 82.51193368225688 -- MSE = 1225.927173414246\n",
      "Epoch 326 ----> m = 50.059953482656695 -- c = 82.63386687901897 -- MSE = 1224.3359687325885\n",
      "Epoch 327 ----> m = 50.0287956889667 -- c = 82.75545263591233 -- MSE = 1222.753819178003\n",
      "Epoch 328 ----> m = 49.99772667716742 -- c = 82.87669194294187 -- MSE = 1221.1806732201446\n",
      "Epoch 329 ----> m = 49.96674619428125 -- c = 82.99758578729154 -- MSE = 1219.6164796219139\n",
      "Epoch 330 ----> m = 49.93585398805141 -- c = 83.11813515333237 -- MSE = 1218.0611874377882\n",
      "Epoch 331 ----> m = 49.90504980693994 -- c = 83.23834102263054 -- MSE = 1216.514746012163\n",
      "Epoch 332 ----> m = 49.87433340012559 -- c = 83.35820437395526 -- MSE = 1214.9771049776998\n",
      "Epoch 333 ----> m = 49.84370451750182 -- c = 83.47772618328688 -- MSE = 1213.4482142536897\n",
      "Epoch 334 ----> m = 49.813162909674745 -- c = 83.59690742382469 -- MSE = 1211.9280240444184\n",
      "Epoch 335 ----> m = 49.78270832796112 -- c = 83.71574906599498 -- MSE = 1210.4164848375467\n",
      "Epoch 336 ----> m = 49.752340524386284 -- c = 83.83425207745887 -- MSE = 1208.9135474024963\n",
      "Epoch 337 ----> m = 49.72205925168219 -- c = 83.95241742312017 -- MSE = 1207.419162788847\n",
      "Epoch 338 ----> m = 49.691864263285346 -- c = 84.07024606513328 -- MSE = 1205.9332823247441\n",
      "Epoch 339 ----> m = 49.66175531333482 -- c = 84.18773896291101 -- MSE = 1204.4558576153106\n",
      "Epoch 340 ----> m = 49.63173215667027 -- c = 84.30489707313242 -- MSE = 1202.9868405410718\n",
      "Epoch 341 ----> m = 49.60179454882988 -- c = 84.42172134975054 -- MSE = 1201.526183256388\n",
      "Epoch 342 ----> m = 49.571942246048444 -- c = 84.53821274400019 -- MSE = 1200.073838187898\n",
      "Epoch 343 ----> m = 49.54217500525533 -- c = 84.65437220440573 -- MSE = 1198.6297580329663\n",
      "Epoch 344 ----> m = 49.51249258407253 -- c = 84.77020067678876 -- MSE = 1197.193895758145\n",
      "Epoch 345 ----> m = 49.482894740812675 -- c = 84.88569910427583 -- MSE = 1195.766204597641\n",
      "Epoch 346 ----> m = 49.45338123447705 -- c = 85.00086842730612 -- MSE = 1194.3466380517943\n",
      "Epoch 347 ----> m = 49.42395182475366 -- c = 85.11570958363909 -- MSE = 1192.9351498855597\n",
      "Epoch 348 ----> m = 49.39460627201526 -- c = 85.23022350836213 -- MSE = 1191.531694127006\n",
      "Epoch 349 ----> m = 49.36534433731742 -- c = 85.34441113389816 -- MSE = 1190.1362250658144\n",
      "Epoch 350 ----> m = 49.33616578239653 -- c = 85.45827339001323 -- MSE = 1188.748697251792\n",
      "Epoch 351 ----> m = 49.307070369667926 -- c = 85.57181120382408 -- MSE = 1187.3690654933912\n",
      "Epoch 352 ----> m = 49.27805786222392 -- c = 85.68502549980572 -- MSE = 1185.9972848562386\n",
      "Epoch 353 ----> m = 49.249128023831865 -- c = 85.79791719979892 -- MSE = 1184.633310661668\n",
      "Epoch 354 ----> m = 49.22028061893225 -- c = 85.91048722301771 -- MSE = 1183.2770984852698\n",
      "Epoch 355 ----> m = 49.19151541263677 -- c = 86.02273648605693 -- MSE = 1181.9286041554415\n",
      "Epoch 356 ----> m = 49.16283217072641 -- c = 86.13466590289963 -- MSE = 1180.5877837519492\n",
      "Epoch 357 ----> m = 49.13423065964957 -- c = 86.24627638492451 -- MSE = 1179.2545936044974\n",
      "Epoch 358 ----> m = 49.1057106465201 -- c = 86.35756884091339 -- MSE = 1177.9289902913076\n",
      "Epoch 359 ----> m = 49.07727189911549 -- c = 86.46854417705856 -- MSE = 1176.6109306377032\n",
      "Epoch 360 ----> m = 49.048914185874885 -- c = 86.57920329697022 -- MSE = 1175.3003717147021\n",
      "Epoch 361 ----> m = 49.02063727589727 -- c = 86.68954710168374 -- MSE = 1173.99727083762\n",
      "Epoch 362 ----> m = 48.99244093893957 -- c = 86.7995764896671 -- MSE = 1172.7015855646816\n",
      "Epoch 363 ----> m = 48.964324945414766 -- c = 86.90929235682815 -- MSE = 1171.4132736956344\n",
      "Epoch 364 ----> m = 48.93628906639002 -- c = 87.01869559652188 -- MSE = 1170.1322932703777\n",
      "Epoch 365 ----> m = 48.90833307358483 -- c = 87.12778709955779 -- MSE = 1168.8586025675943\n",
      "Epoch 366 ----> m = 48.880456739369166 -- c = 87.23656775420703 -- MSE = 1167.5921601033922\n",
      "Epoch 367 ----> m = 48.85265983676161 -- c = 87.34503844620971 -- MSE = 1166.3329246299536\n",
      "Epoch 368 ----> m = 48.82494213942751 -- c = 87.4532000587821 -- MSE = 1165.08085513419\n",
      "Epoch 369 ----> m = 48.79730342167714 -- c = 87.56105347262378 -- MSE = 1163.8359108364084\n",
      "Epoch 370 ----> m = 48.769743458463864 -- c = 87.66859956592485 -- MSE = 1162.5980511889832\n",
      "Epoch 371 ----> m = 48.74226202538229 -- c = 87.77583921437308 -- MSE = 1161.367235875033\n",
      "Epoch 372 ----> m = 48.71485889866646 -- c = 87.88277329116102 -- MSE = 1160.1434248071103\n",
      "Epoch 373 ----> m = 48.68753385518803 -- c = 87.98940266699312 -- MSE = 1158.9265781258941\n",
      "Epoch 374 ----> m = 48.66028667245442 -- c = 88.09572821009283 -- MSE = 1157.7166561988922\n",
      "Epoch 375 ----> m = 48.63311712860705 -- c = 88.20175078620966 -- MSE = 1156.5136196191513\n",
      "Epoch 376 ----> m = 48.6060250024195 -- c = 88.30747125862621 -- MSE = 1155.3174292039719\n",
      "Epoch 377 ----> m = 48.57901007329572 -- c = 88.41289048816523 -- MSE = 1154.1280459936338\n",
      "Epoch 378 ----> m = 48.55207212126823 -- c = 88.51800933319663 -- MSE = 1152.9454312501252\n",
      "Epoch 379 ----> m = 48.525210926996344 -- c = 88.62282864964445 -- MSE = 1151.7695464558833\n",
      "Epoch 380 ----> m = 48.49842627176435 -- c = 88.72734929099381 -- MSE = 1150.6003533125374\n",
      "Epoch 381 ----> m = 48.47171793747977 -- c = 88.83157210829793 -- MSE = 1149.4378137396634\n",
      "Epoch 382 ----> m = 48.44508570667155 -- c = 88.935497950185 -- MSE = 1148.281889873543\n",
      "Epoch 383 ----> m = 48.418529362488314 -- c = 89.03912766286507 -- MSE = 1147.13254406593\n",
      "Epoch 384 ----> m = 48.39204868869659 -- c = 89.14246209013702 -- MSE = 1145.9897388828251\n",
      "Epoch 385 ----> m = 48.365643469679036 -- c = 89.24550207339536 -- MSE = 1144.8534371032554\n",
      "Epoch 386 ----> m = 48.33931349043271 -- c = 89.34824845163712 -- MSE = 1143.7236017180624\n",
      "Epoch 387 ----> m = 48.3130585365673 -- c = 89.45070206146868 -- MSE = 1142.6001959286975\n",
      "Epoch 388 ----> m = 48.28687839430337 -- c = 89.55286373711253 -- MSE = 1141.4831831460242\n",
      "Epoch 389 ----> m = 48.26077285047066 -- c = 89.65473431041414 -- MSE = 1140.3725269891227\n",
      "Epoch 390 ----> m = 48.234741692506304 -- c = 89.75631461084868 -- MSE = 1139.268191284109\n",
      "Epoch 391 ----> m = 48.20878470845312 -- c = 89.85760546552778 -- MSE = 1138.1701400629552\n",
      "Epoch 392 ----> m = 48.1829016869579 -- c = 89.95860769920633 -- MSE = 1137.078337562317\n",
      "Epoch 393 ----> m = 48.15709241726964 -- c = 90.05932213428906 -- MSE = 1135.9927482223711\n",
      "Epoch 394 ----> m = 48.131356689237876 -- c = 90.15974959083736 -- MSE = 1134.9133366856547\n",
      "Epoch 395 ----> m = 48.10569429331096 -- c = 90.25989088657593 -- MSE = 1133.8400677959155\n",
      "Epoch 396 ----> m = 48.08010502053433 -- c = 90.35974683689939 -- MSE = 1132.7729065969665\n",
      "Epoch 397 ----> m = 48.054588662548845 -- c = 90.45931825487897 -- MSE = 1131.7118183315467\n",
      "Epoch 398 ----> m = 48.02914501158904 -- c = 90.5586059512691 -- MSE = 1130.6567684401891\n",
      "Epoch 399 ----> m = 48.00377386048148 -- c = 90.65761073451404 -- MSE = 1129.607722560097\n",
      "Epoch 400 ----> m = 47.97847500264306 -- c = 90.75633341075442 -- MSE = 1128.5646465240216\n",
      "Epoch 401 ----> m = 47.953248232079304 -- c = 90.85477478383386 -- MSE = 1127.527506359152\n",
      "Epoch 402 ----> m = 47.92809334338272 -- c = 90.95293565530547 -- MSE = 1126.496268286008\n",
      "Epoch 403 ----> m = 47.9030101317311 -- c = 91.05081682443839 -- MSE = 1125.4708987173376\n",
      "Epoch 404 ----> m = 47.87799839288586 -- c = 91.1484190882243 -- MSE = 1124.4513642570278\n",
      "Epoch 405 ----> m = 47.85305792319038 -- c = 91.24574324138392 -- MSE = 1123.4376316990113\n",
      "Epoch 406 ----> m = 47.82818851956834 -- c = 91.34279007637346 -- MSE = 1122.4296680261903\n",
      "Epoch 407 ----> m = 47.8033899795221 -- c = 91.4395603833911 -- MSE = 1121.4274404093564\n",
      "Epoch 408 ----> m = 47.77866210113098 -- c = 91.53605495038337 -- MSE = 1120.4309162061247\n",
      "Epoch 409 ----> m = 47.75400468304969 -- c = 91.63227456305165 -- MSE = 1119.4400629598701\n",
      "Epoch 410 ----> m = 47.72941752450665 -- c = 91.7282200048585 -- MSE = 1118.4548483986682\n",
      "Epoch 411 ----> m = 47.704900425302355 -- c = 91.82389205703404 -- MSE = 1117.4752404342466\n",
      "Epoch 412 ----> m = 47.680453185807764 -- c = 91.91929149858235 -- MSE = 1116.5012071609385\n",
      "Epoch 413 ----> m = 47.65607560696266 -- c = 92.0144191062878 -- MSE = 1115.5327168546444\n",
      "Epoch 414 ----> m = 47.63176749027404 -- c = 92.10927565472137 -- MSE = 1114.5697379717965\n",
      "Epoch 415 ----> m = 47.60752863781448 -- c = 92.20386191624694 -- MSE = 1113.6122391483364\n",
      "Epoch 416 ----> m = 47.58335885222056 -- c = 92.29817866102759 -- MSE = 1112.6601891986866\n",
      "Epoch 417 ----> m = 47.5592579366912 -- c = 92.3922266570319 -- MSE = 1111.7135571147414\n",
      "Epoch 418 ----> m = 47.535225694986124 -- c = 92.48600667004017 -- MSE = 1110.7723120648525\n",
      "Epoch 419 ----> m = 47.511261931424194 -- c = 92.57951946365066 -- MSE = 1109.8364233928269\n",
      "Epoch 420 ----> m = 47.48736645088188 -- c = 92.6727657992858 -- MSE = 1108.905860616927\n",
      "Epoch 421 ----> m = 47.46353905879163 -- c = 92.76574643619841 -- MSE = 1107.980593428881\n",
      "Epoch 422 ----> m = 47.439779561140305 -- c = 92.8584621314779 -- MSE = 1107.0605916928914\n",
      "Epoch 423 ----> m = 47.41608776446758 -- c = 92.95091364005638 -- MSE = 1106.145825444657\n",
      "Epoch 424 ----> m = 47.39246347586439 -- c = 93.04310171471484 -- MSE = 1105.236264890394\n",
      "Epoch 425 ----> m = 47.36890650297135 -- c = 93.13502710608925 -- MSE = 1104.331880405868\n",
      "Epoch 426 ----> m = 47.345416653977196 -- c = 93.22669056267677 -- MSE = 1103.432642535429\n",
      "Epoch 427 ----> m = 47.3219937376172 -- c = 93.31809283084168 -- MSE = 1102.5385219910506\n",
      "Epoch 428 ----> m = 47.29863756317164 -- c = 93.40923465482162 -- MSE = 1101.6494896513766\n",
      "Epoch 429 ----> m = 47.275347940464236 -- c = 93.50011677673353 -- MSE = 1100.7655165607734\n",
      "Epoch 430 ----> m = 47.2521246798606 -- c = 93.5907399365798 -- MSE = 1099.8865739283858\n",
      "Epoch 431 ----> m = 47.22896759226669 -- c = 93.68110487225415 -- MSE = 1099.0126331272002\n",
      "Epoch 432 ----> m = 47.20587648912728 -- c = 93.77121231954781 -- MSE = 1098.1436656931112\n",
      "Epoch 433 ----> m = 47.182851182424415 -- c = 93.86106301215538 -- MSE = 1097.2796433239964\n",
      "Epoch 434 ----> m = 47.15989148467588 -- c = 93.95065768168085 -- MSE = 1096.4205378787915\n",
      "Epoch 435 ----> m = 47.13699720893369 -- c = 94.03999705764357 -- MSE = 1095.5663213765772\n",
      "Epoch 436 ----> m = 47.11416816878255 -- c = 94.12908186748419 -- MSE = 1094.716965995665\n",
      "Epoch 437 ----> m = 47.09140417833832 -- c = 94.21791283657053 -- MSE = 1093.8724440726942\n",
      "Epoch 438 ----> m = 47.06870505224656 -- c = 94.30649068820357 -- MSE = 1093.032728101726\n",
      "Epoch 439 ----> m = 47.04607060568095 -- c = 94.39481614362326 -- MSE = 1092.1977907333535\n",
      "Epoch 440 ----> m = 47.023500654341845 -- c = 94.48288992201445 -- MSE = 1091.3676047738068\n",
      "Epoch 441 ----> m = 47.00099501445474 -- c = 94.57071274051273 -- MSE = 1090.5421431840684\n",
      "Epoch 442 ----> m = 46.978553502768776 -- c = 94.65828531421025 -- MSE = 1089.7213790789936\n",
      "Epoch 443 ----> m = 46.95617593655526 -- c = 94.74560835616154 -- MSE = 1088.9052857264332\n",
      "Epoch 444 ----> m = 46.933862133606176 -- c = 94.83268257738938 -- MSE = 1088.0938365463635\n",
      "Epoch 445 ----> m = 46.91161191223269 -- c = 94.9195086868905 -- MSE = 1087.2870051100217\n",
      "Epoch 446 ----> m = 46.88942509126367 -- c = 95.0060873916414 -- MSE = 1086.4847651390428\n",
      "Epoch 447 ----> m = 46.86730149004423 -- c = 95.09241939660413 -- MSE = 1085.6870905046069\n",
      "Epoch 448 ----> m = 46.845240928434244 -- c = 95.17850540473198 -- MSE = 1084.893955226584\n",
      "Epoch 449 ----> m = 46.82324322680688 -- c = 95.26434611697522 -- MSE = 1084.1053334726923\n",
      "Epoch 450 ----> m = 46.801308206047146 -- c = 95.3499422322868 -- MSE = 1083.3211995576537\n",
      "Epoch 451 ----> m = 46.77943568755042 -- c = 95.43529444762811 -- MSE = 1082.541527942358\n",
      "Epoch 452 ----> m = 46.757625493221 -- c = 95.52040345797454 -- MSE = 1081.766293233032\n",
      "Epoch 453 ----> m = 46.735877445470656 -- c = 95.60526995632122 -- MSE = 1080.9954701804113\n",
      "Epoch 454 ----> m = 46.71419136721719 -- c = 95.68989463368865 -- MSE = 1080.2290336789197\n",
      "Epoch 455 ----> m = 46.69256708188297 -- c = 95.7742781791283 -- MSE = 1079.466958765847\n",
      "Epoch 456 ----> m = 46.671004413393526 -- c = 95.85842127972825 -- MSE = 1078.7092206205439\n",
      "Epoch 457 ----> m = 46.6495031861761 -- c = 95.94232462061875 -- MSE = 1077.9557945636043\n",
      "Epoch 458 ----> m = 46.62806322515819 -- c = 96.02598888497785 -- MSE = 1077.2066560560697\n",
      "Epoch 459 ----> m = 46.60668435576619 -- c = 96.10941475403692 -- MSE = 1076.4617806986237\n",
      "Epoch 460 ----> m = 46.5853664039239 -- c = 96.19260290708621 -- MSE = 1075.7211442308017\n",
      "Epoch 461 ----> m = 46.56410919605114 -- c = 96.27555402148037 -- MSE = 1074.9847225301983\n",
      "Epoch 462 ----> m = 46.54291255906235 -- c = 96.35826877264401 -- MSE = 1074.2524916116827\n",
      "Epoch 463 ----> m = 46.521776320365156 -- c = 96.44074783407713 -- MSE = 1073.524427626617\n",
      "Epoch 464 ----> m = 46.50070030785896 -- c = 96.52299187736065 -- MSE = 1072.8005068620787\n",
      "Epoch 465 ----> m = 46.479684349933585 -- c = 96.60500157216188 -- MSE = 1072.0807057400916\n",
      "Epoch 466 ----> m = 46.45872827546781 -- c = 96.68677758623996 -- MSE = 1071.365000816853\n",
      "Epoch 467 ----> m = 46.437831913828035 -- c = 96.76832058545128 -- MSE = 1070.653368781974\n",
      "Epoch 468 ----> m = 46.416995094866856 -- c = 96.84963123375495 -- MSE = 1069.9457864577196\n",
      "Epoch 469 ----> m = 46.39621764892169 -- c = 96.93071019321815 -- MSE = 1069.2422307982517\n",
      "Epoch 470 ----> m = 46.37549940681341 -- c = 97.01155812402155 -- MSE = 1068.542678888881\n",
      "Epoch 471 ----> m = 46.354840199844936 -- c = 97.09217568446469 -- MSE = 1067.8471079453195\n",
      "Epoch 472 ----> m = 46.334239859799894 -- c = 97.17256353097135 -- MSE = 1067.1554953129382\n",
      "Epoch 473 ----> m = 46.31369821894121 -- c = 97.25272231809483 -- MSE = 1066.46781846603\n",
      "Epoch 474 ----> m = 46.2932151100098 -- c = 97.33265269852338 -- MSE = 1065.7840550070757\n",
      "Epoch 475 ----> m = 46.27279036622313 -- c = 97.41235532308544 -- MSE = 1065.1041826660144\n",
      "Epoch 476 ----> m = 46.252423821273915 -- c = 97.49183084075494 -- MSE = 1064.4281792995182\n",
      "Epoch 477 ----> m = 46.232115309328776 -- c = 97.57107989865665 -- MSE = 1063.7560228902707\n",
      "Epoch 478 ----> m = 46.21186466502683 -- c = 97.65010314207136 -- MSE = 1063.0876915462516\n",
      "Epoch 479 ----> m = 46.1916717234784 -- c = 97.72890121444121 -- MSE = 1062.4231635000206\n",
      "Epoch 480 ----> m = 46.17153632026364 -- c = 97.80747475737488 -- MSE = 1061.7624171080104\n",
      "Epoch 481 ----> m = 46.15145829143121 -- c = 97.88582441065284 -- MSE = 1061.1054308498235\n",
      "Epoch 482 ----> m = 46.13143747349694 -- c = 97.96395081223257 -- MSE = 1060.4521833275269\n",
      "Epoch 483 ----> m = 46.111473703442485 -- c = 98.04185459825369 -- MSE = 1059.8026532649583\n",
      "Epoch 484 ----> m = 46.09156681871403 -- c = 98.11953640304323 -- MSE = 1059.1568195070336\n",
      "Epoch 485 ----> m = 46.07171665722092 -- c = 98.19699685912073 -- MSE = 1058.5146610190561\n",
      "Epoch 486 ----> m = 46.05192305733438 -- c = 98.27423659720341 -- MSE = 1057.8761568860305\n",
      "Epoch 487 ----> m = 46.032185857886184 -- c = 98.35125624621132 -- MSE = 1057.2412863119857\n",
      "Epoch 488 ----> m = 46.01250489816734 -- c = 98.42805643327243 -- MSE = 1056.6100286192936\n",
      "Epoch 489 ----> m = 45.992880017926794 -- c = 98.50463778372776 -- MSE = 1055.9823632479965\n",
      "Epoch 490 ----> m = 45.973311057370104 -- c = 98.58100092113648 -- MSE = 1055.3582697551394\n",
      "Epoch 491 ----> m = 45.95379785715816 -- c = 98.65714646728095 -- MSE = 1054.7377278141023\n",
      "Epoch 492 ----> m = 45.93434025840586 -- c = 98.73307504217182 -- MSE = 1054.1207172139377\n",
      "Epoch 493 ----> m = 45.91493810268086 -- c = 98.80878726405307 -- MSE = 1053.5072178587152\n",
      "Epoch 494 ----> m = 45.89559123200223 -- c = 98.88428374940702 -- MSE = 1052.897209766863\n",
      "Epoch 495 ----> m = 45.87629948883923 -- c = 98.95956511295938 -- MSE = 1052.2906730705204\n",
      "Epoch 496 ----> m = 45.85706271610996 -- c = 99.03463196768425 -- MSE = 1051.6875880148891\n",
      "Epoch 497 ----> m = 45.837880757180116 -- c = 99.1094849248091 -- MSE = 1051.0879349575905\n",
      "Epoch 498 ----> m = 45.81875345586174 -- c = 99.18412459381973 -- MSE = 1050.4916943680246\n",
      "Epoch 499 ----> m = 45.79968065641189 -- c = 99.25855158246529 -- MSE = 1049.8988468267362\n",
      "Epoch 500 ----> m = 45.78066220353141 -- c = 99.33276649676314 -- MSE = 1049.3093730247808\n",
      "Epoch 501 ----> m = 45.761697942363675 -- c = 99.4067699410039 -- MSE = 1048.7232537630953\n",
      "Epoch 502 ----> m = 45.74278771849329 -- c = 99.48056251775628 -- MSE = 1048.1404699518737\n",
      "Epoch 503 ----> m = 45.723931377944865 -- c = 99.55414482787201 -- MSE = 1047.561002609946\n",
      "Epoch 504 ----> m = 45.705128767181755 -- c = 99.62751747049072 -- MSE = 1046.984832864157\n",
      "Epoch 505 ----> m = 45.68637973310481 -- c = 99.70068104304487 -- MSE = 1046.4119419487563\n",
      "Epoch 506 ----> m = 45.66768412305111 -- c = 99.77363614126456 -- MSE = 1045.8423112047822\n",
      "Epoch 507 ----> m = 45.64904178479274 -- c = 99.8463833591824 -- MSE = 1045.2759220794571\n",
      "Epoch 508 ----> m = 45.630452566535574 -- c = 99.91892328913835 -- MSE = 1044.7127561255832\n",
      "Epoch 509 ----> m = 45.61191631691797 -- c = 99.99125652178454 -- MSE = 1044.1527950009392\n",
      "Epoch 510 ----> m = 45.59343288500961 -- c = 100.06338364609007 -- MSE = 1043.5960204676855\n",
      "Epoch 511 ----> m = 45.57500212031024 -- c = 100.13530524934583 -- MSE = 1043.0424143917694\n",
      "Epoch 512 ----> m = 45.556623872748425 -- c = 100.20702191716927 -- MSE = 1042.4919587423344\n",
      "Epoch 513 ----> m = 45.53829799268037 -- c = 100.27853423350915 -- MSE = 1041.9446355911318\n",
      "Epoch 514 ----> m = 45.52002433088867 -- c = 100.3498427806503 -- MSE = 1041.400427111939\n",
      "Epoch 515 ----> m = 45.5018027385811 -- c = 100.42094813921841 -- MSE = 1040.859315579977\n",
      "Epoch 516 ----> m = 45.48363306738941 -- c = 100.49185088818467 -- MSE = 1040.3212833713346\n",
      "Epoch 517 ----> m = 45.46551516936813 -- c = 100.56255160487058 -- MSE = 1039.7863129623927\n",
      "Epoch 518 ----> m = 45.44744889699333 -- c = 100.63305086495257 -- MSE = 1039.2543869292558\n",
      "Epoch 519 ----> m = 45.42943410316144 -- c = 100.70334924246673 -- MSE = 1038.7254879471814\n",
      "Epoch 520 ----> m = 45.41147064118807 -- c = 100.77344730981349 -- MSE = 1038.1995987900195\n",
      "Epoch 521 ----> m = 45.39355836480677 -- c = 100.84334563776227 -- MSE = 1037.676702329648\n",
      "Epoch 522 ----> m = 45.375697128167886 -- c = 100.91304479545609 -- MSE = 1037.1567815354172\n",
      "Epoch 523 ----> m = 45.357886785837344 -- c = 100.98254535041626 -- MSE = 1036.639819473594\n",
      "Epoch 524 ----> m = 45.34012719279547 -- c = 101.05184786854697 -- MSE = 1036.1257993068114\n",
      "Epoch 525 ----> m = 45.32241820443583 -- c = 101.12095291413992 -- MSE = 1035.6147042935188\n",
      "Epoch 526 ----> m = 45.30475967656401 -- c = 101.1898610498789 -- MSE = 1035.1065177874375\n",
      "Epoch 527 ----> m = 45.2871514653965 -- c = 101.25857283684437 -- MSE = 1034.6012232370188\n",
      "Epoch 528 ----> m = 45.26959342755945 -- c = 101.32708883451801 -- MSE = 1034.0988041849032\n",
      "Epoch 529 ----> m = 45.25208542008758 -- c = 101.39540960078733 -- MSE = 1033.5992442673876\n",
      "Epoch 530 ----> m = 45.234627300422964 -- c = 101.46353569195017 -- MSE = 1033.1025272138886\n",
      "Epoch 531 ----> m = 45.217218926413885 -- c = 101.53146766271922 -- MSE = 1032.6086368464164\n",
      "Epoch 532 ----> m = 45.199860156313676 -- c = 101.59920606622659 -- MSE = 1032.1175570790435\n",
      "Epoch 533 ----> m = 45.18255084877956 -- c = 101.66675145402824 -- MSE = 1031.629271917385\n",
      "Epoch 534 ----> m = 45.16529086287153 -- c = 101.73410437610855 -- MSE = 1031.1437654580757\n",
      "Epoch 535 ----> m = 45.14808005805116 -- c = 101.80126538088473 -- MSE = 1030.6610218882508\n",
      "Epoch 536 ----> m = 45.13091829418047 -- c = 101.86823501521134 -- MSE = 1030.1810254850345\n",
      "Epoch 537 ----> m = 45.11380543152081 -- c = 101.9350138243847 -- MSE = 1029.7037606150236\n",
      "Epoch 538 ----> m = 45.096741330731696 -- c = 102.00160235214733 -- MSE = 1029.2292117337824\n",
      "Epoch 539 ----> m = 45.07972585286969 -- c = 102.06800114069243 -- MSE = 1028.7573633853328\n",
      "Epoch 540 ----> m = 45.062758859387266 -- c = 102.13421073066824 -- MSE = 1028.288200201654\n",
      "Epoch 541 ----> m = 45.045840212131665 -- c = 102.20023166118249 -- MSE = 1027.8217069021796\n",
      "Epoch 542 ----> m = 45.028969773343796 -- c = 102.26606446980671 -- MSE = 1027.3578682933016\n",
      "Epoch 543 ----> m = 45.012147405657096 -- c = 102.33170969258069 -- MSE = 1026.8966692678741\n",
      "Epoch 544 ----> m = 44.995372972096426 -- c = 102.39716786401682 -- MSE = 1026.4380948047224\n",
      "Epoch 545 ----> m = 44.97864633607694 -- c = 102.46243951710443 -- MSE = 1025.9821299681537\n",
      "Epoch 546 ----> m = 44.96196736140299 -- c = 102.52752518331411 -- MSE = 1025.52875990747\n",
      "Epoch 547 ----> m = 44.945335912267 -- c = 102.59242539260211 -- MSE = 1025.0779698564843\n",
      "Epoch 548 ----> m = 44.92875185324837 -- c = 102.65714067341456 -- MSE = 1024.6297451330397\n",
      "Epoch 549 ----> m = 44.91221504931237 -- c = 102.72167155269184 -- MSE = 1024.1840711385335\n",
      "Epoch 550 ----> m = 44.89572536580905 -- c = 102.78601855587287 -- MSE = 1023.7409333574382\n",
      "Epoch 551 ----> m = 44.879282668472115 -- c = 102.85018220689935 -- MSE = 1023.3003173568304\n",
      "Epoch 552 ----> m = 44.862886823417874 -- c = 102.91416302822003 -- MSE = 1022.8622087859213\n",
      "Epoch 553 ----> m = 44.846537697144115 -- c = 102.97796154079502 -- MSE = 1022.4265933755887\n",
      "Epoch 554 ----> m = 44.830235156529035 -- c = 103.04157826409997 -- MSE = 1021.9934569379114\n",
      "Epoch 555 ----> m = 44.81397906883016 -- c = 103.1050137161303 -- MSE = 1021.5627853657085\n",
      "Epoch 556 ----> m = 44.79776930168324 -- c = 103.16826841340549 -- MSE = 1021.1345646320797\n",
      "Epoch 557 ----> m = 44.7816057231012 -- c = 103.23134287097318 -- MSE = 1020.7087807899469\n",
      "Epoch 558 ----> m = 44.76548820147305 -- c = 103.29423760241346 -- MSE = 1020.2854199716031\n",
      "Epoch 559 ----> m = 44.74941660556281 -- c = 103.35695311984298 -- MSE = 1019.8644683882566\n",
      "Epoch 560 ----> m = 44.73339080450845 -- c = 103.4194899339192 -- MSE = 1019.4459123295852\n",
      "Epoch 561 ----> m = 44.717410667820836 -- c = 103.48184855384442 -- MSE = 1019.0297381632893\n",
      "Epoch 562 ----> m = 44.701476065382636 -- c = 103.54402948737007 -- MSE = 1018.6159323346452\n",
      "Epoch 563 ----> m = 44.68558686744728 -- c = 103.60603324080076 -- MSE = 1018.2044813660672\n",
      "Epoch 564 ----> m = 44.6697429446379 -- c = 103.66786031899841 -- MSE = 1017.7953718566662\n",
      "Epoch 565 ----> m = 44.6539441679463 -- c = 103.72951122538639 -- MSE = 1017.3885904818139\n",
      "Epoch 566 ----> m = 44.63819040873185 -- c = 103.7909864619536 -- MSE = 1016.9841239927101\n",
      "Epoch 567 ----> m = 44.6224815387205 -- c = 103.85228652925854 -- MSE = 1016.581959215949\n",
      "Epoch 568 ----> m = 44.60681743000369 -- c = 103.91341192643341 -- MSE = 1016.1820830530911\n",
      "Epoch 569 ----> m = 44.59119795503733 -- c = 103.97436315118819 -- MSE = 1015.7844824802368\n",
      "Epoch 570 ----> m = 44.57562298664077 -- c = 104.03514069981465 -- MSE = 1015.3891445476027\n",
      "Epoch 571 ----> m = 44.560092397995724 -- c = 104.0957450671904 -- MSE = 1014.9960563790988\n",
      "Epoch 572 ----> m = 44.5446060626453 -- c = 104.15617674678299 -- MSE = 1014.6052051719096\n",
      "Epoch 573 ----> m = 44.529163854492914 -- c = 104.2164362306538 -- MSE = 1014.2165781960765\n",
      "Epoch 574 ----> m = 44.5137656478013 -- c = 104.27652400946215 -- MSE = 1013.8301627940847\n",
      "Epoch 575 ----> m = 44.498411317191454 -- c = 104.33644057246926 -- MSE = 1013.4459463804492\n",
      "Epoch 576 ----> m = 44.48310073764164 -- c = 104.39618640754223 -- MSE = 1013.0639164413063\n",
      "Epoch 577 ----> m = 44.46783378448636 -- c = 104.45576200115804 -- MSE = 1012.684060534005\n",
      "Epoch 578 ----> m = 44.45261033341534 -- c = 104.51516783840744 -- MSE = 1012.3063662867019\n",
      "Epoch 579 ----> m = 44.43743026047253 -- c = 104.574404402999 -- MSE = 1011.9308213979591\n",
      "Epoch 580 ----> m = 44.42229344205507 -- c = 104.63347217726296 -- MSE = 1011.5574136363429\n",
      "Epoch 581 ----> m = 44.40719975491231 -- c = 104.69237164215524 -- MSE = 1011.1861308400247\n",
      "Epoch 582 ----> m = 44.39214907614478 -- c = 104.75110327726125 -- MSE = 1010.8169609163871\n",
      "Epoch 583 ----> m = 44.37714128320321 -- c = 104.80966756079991 -- MSE = 1010.4498918416272\n",
      "Epoch 584 ----> m = 44.362176253887526 -- c = 104.86806496962745 -- MSE = 1010.0849116603667\n",
      "Epoch 585 ----> m = 44.34725386634585 -- c = 104.92629597924136 -- MSE = 1009.722008485263\n",
      "Epoch 586 ----> m = 44.332373999073525 -- c = 104.98436106378422 -- MSE = 1009.3611704966205\n",
      "Epoch 587 ----> m = 44.3175365309121 -- c = 105.04226069604758 -- MSE = 1009.0023859420062\n",
      "Epoch 588 ----> m = 44.30274134104836 -- c = 105.0999953474758 -- MSE = 1008.6456431358677\n",
      "Epoch 589 ----> m = 44.28798830901333 -- c = 105.1575654881699 -- MSE = 1008.2909304591519\n",
      "Epoch 590 ----> m = 44.27327731468132 -- c = 105.21497158689137 -- MSE = 1007.9382363589268\n",
      "Epoch 591 ----> m = 44.25860823826893 -- c = 105.272214111066 -- MSE = 1007.5875493480044\n",
      "Epoch 592 ----> m = 44.24398096033404 -- c = 105.32929352678772 -- MSE = 1007.2388580045676\n",
      "Epoch 593 ----> m = 44.22939536177492 -- c = 105.3862102988223 -- MSE = 1006.8921509717983\n",
      "Epoch 594 ----> m = 44.21485132382917 -- c = 105.44296489061124 -- MSE = 1006.5474169575064\n",
      "Epoch 595 ----> m = 44.200348728072825 -- c = 105.49955776427545 -- MSE = 1006.2046447337634\n",
      "Epoch 596 ----> m = 44.185887456419344 -- c = 105.55598938061911 -- MSE = 1005.863823136535\n",
      "Epoch 597 ----> m = 44.171467391118675 -- c = 105.61226019913335 -- MSE = 1005.5249410653199\n",
      "Epoch 598 ----> m = 44.15708841475628 -- c = 105.66837067799999 -- MSE = 1005.1879874827854\n",
      "Epoch 599 ----> m = 44.142750410252184 -- c = 105.72432127409533 -- MSE = 1004.8529514144099\n",
      "Epoch 600 ----> m = 44.12845326086003 -- c = 105.78011244299383 -- MSE = 1004.5198219481255\n"
     ]
    }
   ],
   "source": [
    "# Inisialisasi m = 0 dan c = 0\n",
    "m_gd = 0\n",
    "c_gd = 0\n",
    "\n",
    "# Menghitung Rata-rata kedua data\n",
    "mean_x = np.mean(x)\n",
    "mean_y = np.mean(y)\n",
    "\n",
    "# HyperParameter\n",
    "L = 0.01  \n",
    "epochs = 600  \n",
    "\n",
    "# Panjang data x\n",
    "n = len(x) \n",
    "\n",
    "# Training (Gradient Descent)\n",
    "for i in range(epochs): \n",
    "    Y_pred = m_gd*x + c_gd  # y_pred\n",
    "    D_mgd = (-2/n) * sum(x * (y - Y_pred))  # m baru\n",
    "    D_cgd = (-2/n) * sum(y - Y_pred)  # c baru\n",
    "    m_gd = m_gd - L * D_mgd  # Update m\n",
    "    c_gd = c_gd - L * D_cgd  # Update c\n",
    "    \n",
    "    #MSE\n",
    "    Min = (Y_pred-y)**2\n",
    "    Sum_MSE=np.sum(Min)\n",
    "    MSE = 1/len(x)*Sum_MSE\n",
    "    \n",
    "\n",
    "    print(f'Epoch {i+1} ----> m = {m_gd} -- c = {c_gd} -- MSE = {MSE}')"
   ]
  },
  {
   "cell_type": "code",
   "execution_count": 11,
   "id": "37b08b66",
   "metadata": {},
   "outputs": [
    {
     "name": "stdout",
     "output_type": "stream",
     "text": [
      "Nilai R-Square = 0.974646150991562\n"
     ]
    }
   ],
   "source": [
    "#R-Square\n",
    "RSS = (Y_pred - mean_y) ** 2\n",
    "RSS = np.sum(RSS)\n",
    "TSS = (y - mean_y) ** 2\n",
    "TSS = np.sum(TSS)\n",
    "r_square = RSS/TSS\n",
    "print(f'Nilai R-Square = {r_square}')"
   ]
  },
  {
   "cell_type": "code",
   "execution_count": 13,
   "id": "c70ad77c",
   "metadata": {},
   "outputs": [
    {
     "data": {
      "text/plain": [
       "[<matplotlib.lines.Line2D at 0x18fa9e8c580>]"
      ]
     },
     "execution_count": 13,
     "metadata": {},
     "output_type": "execute_result"
    },
    {
     "data": {
      "image/png": "[encoded data removed]",
      "text/plain": [
       "<Figure size 432x288 with 1 Axes>"
      ]
     },
     "metadata": {
      "needs_background": "light"
     },
     "output_type": "display_data"
    }
   ],
   "source": [
    "fig, ax = plt.subplots()\n",
    "\n",
    "Y_reg = x *m_gd + c_gd\n",
    "ax.scatter(x, y)\n",
    "ax.scatter(x, Y_pred, color=\"orange\")\n",
    "ax.plot(x, Y_reg, color=\"green\")"
   ]
  },
  {
   "cell_type": "markdown",
   "id": "158bdf15",
   "metadata": {},
   "source": [
    "# Simple Deployment"
   ]
  },
  {
   "cell_type": "code",
   "execution_count": 23,
   "id": "f8b7ea95",
   "metadata": {},
   "outputs": [
    {
     "name": "stdout",
     "output_type": "stream",
     "text": [
      "Ukuran Engine? 2.0\n"
     ]
    },
    {
     "data": {
      "text/plain": [
       "203.55449906878033"
      ]
     },
     "execution_count": 23,
     "metadata": {},
     "output_type": "execute_result"
    }
   ],
   "source": [
    "pengalaman_kerja = float(input('Ukuran Engine? '))\n",
    "\n",
    "prediksi =  m*pengalaman_kerja+c\n",
    "prediksi"
   ]
  },
  {
   "cell_type": "code",
   "execution_count": 24,
   "id": "54fdb65d",
   "metadata": {},
   "outputs": [
    {
     "name": "stdout",
     "output_type": "stream",
     "text": [
      "Ukuran Engine? 2.0\n"
     ]
    },
    {
     "data": {
      "text/plain": [
       "194.03701896471387"
      ]
     },
     "execution_count": 24,
     "metadata": {},
     "output_type": "execute_result"
    }
   ],
   "source": [
    "pengalaman_kerja_gd = float(input('Ukuran Engine? '))\n",
    "\n",
    "prediksi_gd =  m_gd*pengalaman_kerja_gd+c_gd\n",
    "prediksi_gd\n",
    "\n"
   ]
  },
  {
   "cell_type": "markdown",
   "id": "1563ee57",
   "metadata": {},
   "source": [
    "Prediksi dengan variabel yang di optimasi lebih mendekati dengan nilai aslinya dibandingkan dengan yang tidak di optimasi"
   ]
  },
  {
   "cell_type": "code",
   "execution_count": null,
   "id": "7656cf06",
   "metadata": {},
   "outputs": [],
   "source": []
  }
 ],
 "metadata": {
  "kernelspec": {
   "display_name": "Python 3 (ipykernel)",
   "language": "python",
   "name": "python3"
  },
  "language_info": {
   "codemirror_mode": {
    "name": "ipython",
    "version": 3
   },
   "file_extension": ".py",
   "mimetype": "text/x-python",
   "name": "python",
   "nbconvert_exporter": "python",
   "pygments_lexer": "ipython3",
   "version": "3.9.12"
  }
 },
 "nbformat": 4,
 "nbformat_minor": 5
}
